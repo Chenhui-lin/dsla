{
  "nbformat": 4,
  "nbformat_minor": 0,
  "metadata": {
    "accelerator": "GPU",
    "colab": {
      "name": "Tensorflow_Basics.ipynb",
      "provenance": [],
      "toc_visible": true
    },
    "kernelspec": {
      "display_name": "Python 3",
      "name": "python3"
    },
    "language_info": {
      "name": "python"
    }
  },
  "cells": [
    {
      "cell_type": "markdown",
      "metadata": {
        "id": "VrmQcaz6Tiyj"
      },
      "source": [
        "# Introduction"
      ]
    },
    {
      "cell_type": "markdown",
      "metadata": {
        "id": "LckAwWTUToTp"
      },
      "source": [
        "TensorFlow is an end-to-end open source platform for machine learning. It has a comprehensive, flexible ecosystem of tools, libraries and community resources that lets researchers push the state-of-the-art in ML and developers easily build and deploy ML powered applications.\n",
        "\n",
        "This notebook Provides basic starting point and boiler plate code for Tensorflow 2.0 with respect Model creation and training. \n",
        "\n",
        "The approch followed is to create, train, evaluate Models with same architechture, same MNIST dataset using different ways of building Models from basic to advanced method and different ways of training at basic level. "
      ]
    },
    {
      "cell_type": "markdown",
      "metadata": {
        "id": "q4qnwB04S0RX"
      },
      "source": [
        "## Import Libraries"
      ]
    },
    {
      "cell_type": "markdown",
      "metadata": {
        "id": "anAn9K3-WHC4"
      },
      "source": [
        "Below are some basic Libraries  related to Tensorflow and Keras "
      ]
    },
    {
      "cell_type": "code",
      "metadata": {
        "id": "o70OEsvwOPPg"
      },
      "source": [
        "import tensorflow as tf\n",
        "from tensorflow import keras\n",
        "from tensorflow.keras import Model\n",
        "from tensorflow.keras.layers import Input,Layer,Dense,Flatten"
      ],
      "execution_count": 1,
      "outputs": []
    },
    {
      "cell_type": "markdown",
      "metadata": {
        "id": "Ibx_aJlnXxxU"
      },
      "source": [
        "Below are Libraries for needed to manupulate and visualize "
      ]
    },
    {
      "cell_type": "code",
      "metadata": {
        "id": "_sk4L-itTeUc"
      },
      "source": [
        "import numpy as np\n",
        "import pandas as pd\n",
        "import matplotlib.pyplot as plt"
      ],
      "execution_count": 2,
      "outputs": []
    },
    {
      "cell_type": "markdown",
      "metadata": {
        "id": "ukDcOw6JWPAs"
      },
      "source": [
        "## MNIST dataset"
      ]
    },
    {
      "cell_type": "markdown",
      "metadata": {
        "id": "DFj7hzZdXGef"
      },
      "source": [
        "The MNIST dataset has handwritten digits as image files. \n",
        "It has a training set of 60,000 examples, and a test set of 10,000 examples"
      ]
    },
    {
      "cell_type": "markdown",
      "metadata": {
        "id": "g8bjIUHdXX7U"
      },
      "source": [
        "## Import MNIST dataset"
      ]
    },
    {
      "cell_type": "markdown",
      "metadata": {
        "id": "H_Uz8YQQiZ59"
      },
      "source": [
        "# Different ways of Building Model"
      ]
    },
    {
      "cell_type": "markdown",
      "metadata": {
        "id": "i9K4FQ2AZu2w"
      },
      "source": [
        "Keras datasets library has the mnist dataset inbuilt"
      ]
    },
    {
      "cell_type": "code",
      "metadata": {
        "id": "qFHHj5MUtQHK"
      },
      "source": [
        "mnist = tf.keras.datasets.mnist"
      ],
      "execution_count": 3,
      "outputs": []
    },
    {
      "cell_type": "code",
      "metadata": {
        "id": "C5T4cqaMtswn"
      },
      "source": [
        "(x_train,y_train),(x_test,y_test)=mnist.load_data() "
      ],
      "execution_count": 4,
      "outputs": []
    },
    {
      "cell_type": "markdown",
      "metadata": {
        "id": "Gw6C8jtPQwcV"
      },
      "source": [
        "## Sequential Model\n",
        "\n",
        "A Sequential model is appropriate for a plain stack of layers where each layer has exactly one input tensor and one output tensor.\n"
      ]
    },
    {
      "cell_type": "markdown",
      "metadata": {
        "id": "JPmYaM9WbFg8"
      },
      "source": [
        "### Model Architecture "
      ]
    },
    {
      "cell_type": "code",
      "metadata": {
        "id": "-duWgOaA5pNs"
      },
      "source": [
        "def create_model():\n",
        "  model=tf.keras.models.Sequential([\n",
        "  tf.keras.layers.Flatten(input_shape=(28,28)),\n",
        "  Dense(units=512,activation=tf.nn.relu),\n",
        "  Dense(units=512,activation=tf.nn.relu),\n",
        "  Dense(units=512,activation=tf.nn.relu),\n",
        "  Dense(units=10,activation=tf.nn.softmax)])\n",
        "  return model"
      ],
      "execution_count": 5,
      "outputs": []
    },
    {
      "cell_type": "markdown",
      "metadata": {
        "id": "xW1eWtrubMHE"
      },
      "source": [
        "### Create Model"
      ]
    },
    {
      "cell_type": "code",
      "metadata": {
        "id": "ux_VFL-Q5ru2"
      },
      "source": [
        "model=create_model()\n"
      ],
      "execution_count": 6,
      "outputs": []
    },
    {
      "cell_type": "markdown",
      "metadata": {
        "id": "IUGz-L--cuA5"
      },
      "source": [
        "### Model Summary"
      ]
    },
    {
      "cell_type": "code",
      "metadata": {
        "colab": {
          "base_uri": "https://localhost:8080/"
        },
        "id": "EJl_gFlbQbvK",
        "outputId": "6fc6a392-b852-4d9a-a0b9-b5d38dded45a"
      },
      "source": [
        "model.summary()"
      ],
      "execution_count": 7,
      "outputs": [
        {
          "output_type": "stream",
          "name": "stdout",
          "text": [
            "Model: \"sequential\"\n",
            "_________________________________________________________________\n",
            " Layer (type)                Output Shape              Param #   \n",
            "=================================================================\n",
            " flatten (Flatten)           (None, 784)               0         \n",
            "                                                                 \n",
            " dense (Dense)               (None, 512)               401920    \n",
            "                                                                 \n",
            " dense_1 (Dense)             (None, 512)               262656    \n",
            "                                                                 \n",
            " dense_2 (Dense)             (None, 512)               262656    \n",
            "                                                                 \n",
            " dense_3 (Dense)             (None, 10)                5130      \n",
            "                                                                 \n",
            "=================================================================\n",
            "Total params: 932,362\n",
            "Trainable params: 932,362\n",
            "Non-trainable params: 0\n",
            "_________________________________________________________________\n"
          ]
        }
      ]
    },
    {
      "cell_type": "markdown",
      "metadata": {
        "id": "oRkBtXFtdsqT"
      },
      "source": [
        "### Visualize Model"
      ]
    },
    {
      "cell_type": "code",
      "metadata": {
        "colab": {
          "base_uri": "https://localhost:8080/",
          "height": 643
        },
        "id": "KV2YRpFgdgCy",
        "outputId": "5b9dab58-765c-4863-c200-8bdc12082690"
      },
      "source": [
        "keras.utils.plot_model(model, show_shapes=True)"
      ],
      "execution_count": 8,
      "outputs": [
        {
          "output_type": "execute_result",
          "data": {
            "image/png": "[encoded data removed]",
            "text/plain": [
              "<IPython.core.display.Image object>"
            ]
          },
          "metadata": {},
          "execution_count": 8
        }
      ]
    },
    {
      "cell_type": "markdown",
      "metadata": {
        "id": "wq-jE_ybcD87"
      },
      "source": [
        "### Compile Model"
      ]
    },
    {
      "cell_type": "markdown",
      "metadata": {
        "id": "htIi-A6Cdxc_"
      },
      "source": [
        "Compile step is a key step that users Optimizer, Loss fuction and Metrics used for Back propagation. Please refer below high level insignt\n",
        "\n",
        "The Loss Function is one of the important components of Neural Networks. Loss is nothing but a prediction error of Neural Net. And the method to calculate the loss is called Loss Function. In simple words, the Loss is used to calculate the gradients. And gradients are used to update the weights of the Neural Net.\n",
        "\n",
        "Optimizers are algorithms or methods used to change the attributes of your neural network such as weights and learning rate in order to reduce the losses. Optimizers help to get results faster.\n",
        "\n",
        "Metrics can be accuracy, loss etc to assess the performance of Trained model"
      ]
    },
    {
      "cell_type": "code",
      "metadata": {
        "id": "tDHgDS9xcCwu"
      },
      "source": [
        "model.compile(optimizer=tf.keras.optimizers.Adam(learning_rate=0.001), metrics=['accuracy'],loss='sparse_categorical_crossentropy')\n"
      ],
      "execution_count": 9,
      "outputs": []
    },
    {
      "cell_type": "markdown",
      "metadata": {
        "id": "jyN2q1udcIvO"
      },
      "source": [
        "### Train Model"
      ]
    },
    {
      "cell_type": "markdown",
      "metadata": {
        "id": "KDHvVIqRfT1d"
      },
      "source": [
        "Trains the model for a fixed number of epochs. At each epoch the weights are adjusted through back probagation. \n",
        "\n",
        "We can see every epoc the sparse_categorical_crossentropy loss is reduced and the train accuracy is increased"
      ]
    },
    {
      "cell_type": "code",
      "metadata": {
        "colab": {
          "base_uri": "https://localhost:8080/"
        },
        "id": "2HdT1GIQcHwz",
        "outputId": "5ddc8788-e22b-4756-e702-860181a0d263"
      },
      "source": [
        "model.fit(x_train,y_train,epochs=15,batch_size=1024)"
      ],
      "execution_count": 10,
      "outputs": [
        {
          "output_type": "stream",
          "name": "stdout",
          "text": [
            "Epoch 1/15\n",
            "59/59 [==============================] - 1s 3ms/step - loss: 8.4750 - accuracy: 0.7977\n",
            "Epoch 2/15\n",
            "59/59 [==============================] - 0s 3ms/step - loss: 0.3311 - accuracy: 0.9366\n",
            "Epoch 3/15\n",
            "59/59 [==============================] - 0s 3ms/step - loss: 0.1572 - accuracy: 0.9632\n",
            "Epoch 4/15\n",
            "59/59 [==============================] - 0s 3ms/step - loss: 0.0824 - accuracy: 0.9789\n",
            "Epoch 5/15\n",
            "59/59 [==============================] - 0s 3ms/step - loss: 0.0419 - accuracy: 0.9883\n",
            "Epoch 6/15\n",
            "59/59 [==============================] - 0s 3ms/step - loss: 0.0206 - accuracy: 0.9950\n",
            "Epoch 7/15\n",
            "59/59 [==============================] - 0s 3ms/step - loss: 0.0103 - accuracy: 0.9980\n",
            "Epoch 8/15\n",
            "59/59 [==============================] - 0s 3ms/step - loss: 0.0052 - accuracy: 0.9996\n",
            "Epoch 9/15\n",
            "59/59 [==============================] - 0s 3ms/step - loss: 0.0030 - accuracy: 0.9999\n",
            "Epoch 10/15\n",
            "59/59 [==============================] - 0s 3ms/step - loss: 0.0021 - accuracy: 0.9999\n",
            "Epoch 11/15\n",
            "59/59 [==============================] - 0s 3ms/step - loss: 0.0016 - accuracy: 1.0000\n",
            "Epoch 12/15\n",
            "59/59 [==============================] - 0s 3ms/step - loss: 0.0013 - accuracy: 1.0000\n",
            "Epoch 13/15\n",
            "59/59 [==============================] - 0s 3ms/step - loss: 0.0011 - accuracy: 1.0000\n",
            "Epoch 14/15\n",
            "59/59 [==============================] - 0s 3ms/step - loss: 9.3821e-04 - accuracy: 1.0000\n",
            "Epoch 15/15\n",
            "59/59 [==============================] - 0s 3ms/step - loss: 8.2369e-04 - accuracy: 1.0000\n"
          ]
        },
        {
          "output_type": "execute_result",
          "data": {
            "text/plain": [
              "<keras.callbacks.History at 0x7f89e01bcc50>"
            ]
          },
          "metadata": {},
          "execution_count": 10
        }
      ]
    },
    {
      "cell_type": "markdown",
      "metadata": {
        "id": "Ewt4LCF4cOK5"
      },
      "source": [
        "### Evaluate Model with Test data"
      ]
    },
    {
      "cell_type": "markdown",
      "metadata": {
        "id": "wyR_uSiFgEY1"
      },
      "source": [
        "Test data is used evaluate the performance of the model trained. "
      ]
    },
    {
      "cell_type": "code",
      "metadata": {
        "colab": {
          "base_uri": "https://localhost:8080/"
        },
        "id": "S7pVWHbacNB2",
        "outputId": "04553032-cd19-4df2-ecb8-80f7fa240bb0"
      },
      "source": [
        "testaccuracy=model.evaluate(x_test,y_test)\n",
        "print(\"The test accuracy is :\", np.round(testaccuracy[1]*100,2),\"%\")"
      ],
      "execution_count": 11,
      "outputs": [
        {
          "output_type": "stream",
          "name": "stdout",
          "text": [
            "313/313 [==============================] - 1s 2ms/step - loss: 0.2533 - accuracy: 0.9586\n",
            "The test accuracy is : 95.86 %\n"
          ]
        }
      ]
    },
    {
      "cell_type": "markdown",
      "metadata": {
        "id": "kyYuA-Df5kQU"
      },
      "source": [
        "## Model built with Functional APIs"
      ]
    },
    {
      "cell_type": "markdown",
      "metadata": {
        "id": "nbMRbxGgdU7G"
      },
      "source": [
        "The Keras functional API is a way to create models that are more flexible than the tf.keras.Sequential API. The functional API can handle models with non-linear topology, shared layers, and even multiple inputs or outputs."
      ]
    },
    {
      "cell_type": "markdown",
      "metadata": {
        "id": "IkAF1TjkhByk"
      },
      "source": [
        "### Model Architecture"
      ]
    },
    {
      "cell_type": "code",
      "metadata": {
        "id": "eTwkSpd9Qqd3"
      },
      "source": [
        "def build_model_with_functional():\n",
        "    \n",
        "    # instantiate the input Tensor\n",
        "    input_layer = tf.keras.Input(shape=(28, 28))\n",
        "    \n",
        "    # stack the layers using the syntax: new_layer()(previous_layer)\n",
        "    flatten_layer = tf.keras.layers.Flatten()(input_layer)\n",
        "    first_dense = tf.keras.layers.Dense(512, activation=tf.nn.relu)(flatten_layer)\n",
        "    second_dense = tf.keras.layers.Dense(512, activation=tf.nn.relu)(first_dense)\n",
        "    third_dense = tf.keras.layers.Dense(512, activation=tf.nn.relu)(second_dense)\n",
        "    output_layer = tf.keras.layers.Dense(10, activation=tf.nn.softmax)(third_dense)\n",
        "    \n",
        "    # declare inputs and outputs\n",
        "    func_model = Model(inputs=input_layer, outputs=output_layer)\n",
        "    \n",
        "    return func_model"
      ],
      "execution_count": 12,
      "outputs": []
    },
    {
      "cell_type": "markdown",
      "metadata": {
        "id": "fY4pPvRLggIY"
      },
      "source": [
        "### Create, Visualize, Train and evaluate the model\n",
        "The same steps explained in sequential model is consolidated here as they are exactly same code"
      ]
    },
    {
      "cell_type": "code",
      "metadata": {
        "colab": {
          "base_uri": "https://localhost:8080/"
        },
        "id": "IsMcjsimQqov",
        "outputId": "9f258801-02e1-47e5-8fea-f6edc66a8af9"
      },
      "source": [
        "model=build_model_with_functional()\n",
        "model.compile(optimizer=tf.keras.optimizers.Adam(learning_rate=0.001), metrics=['accuracy'],loss='sparse_categorical_crossentropy')\n",
        "model.fit(x_train,y_train,epochs=5,batch_size=1024)\n",
        "testaccuracy=model.evaluate(x_test,y_test)\n",
        "print(\"The test accuracy is :\", np.round(testaccuracy[1]*100,2),\"%\")"
      ],
      "execution_count": 13,
      "outputs": [
        {
          "output_type": "stream",
          "name": "stdout",
          "text": [
            "Epoch 1/5\n",
            "59/59 [==============================] - 1s 3ms/step - loss: 9.2116 - accuracy: 0.7801\n",
            "Epoch 2/5\n",
            "59/59 [==============================] - 0s 3ms/step - loss: 0.3370 - accuracy: 0.9315\n",
            "Epoch 3/5\n",
            "59/59 [==============================] - 0s 3ms/step - loss: 0.1733 - accuracy: 0.9567\n",
            "Epoch 4/5\n",
            "59/59 [==============================] - 0s 3ms/step - loss: 0.0960 - accuracy: 0.9736\n",
            "Epoch 5/5\n",
            "59/59 [==============================] - 0s 3ms/step - loss: 0.0526 - accuracy: 0.9858\n",
            "313/313 [==============================] - 1s 2ms/step - loss: 0.2185 - accuracy: 0.9515\n",
            "The test accuracy is : 95.15 %\n"
          ]
        }
      ]
    },
    {
      "cell_type": "code",
      "metadata": {
        "colab": {
          "base_uri": "https://localhost:8080/"
        },
        "id": "PVdJrjkCQqsC",
        "outputId": "fcc9cd20-673b-4322-da67-12a4a5af0a4b"
      },
      "source": [
        "model.summary()"
      ],
      "execution_count": 14,
      "outputs": [
        {
          "output_type": "stream",
          "name": "stdout",
          "text": [
            "Model: \"model\"\n",
            "_________________________________________________________________\n",
            " Layer (type)                Output Shape              Param #   \n",
            "=================================================================\n",
            " input_1 (InputLayer)        [(None, 28, 28)]          0         \n",
            "                                                                 \n",
            " flatten_1 (Flatten)         (None, 784)               0         \n",
            "                                                                 \n",
            " dense_4 (Dense)             (None, 512)               401920    \n",
            "                                                                 \n",
            " dense_5 (Dense)             (None, 512)               262656    \n",
            "                                                                 \n",
            " dense_6 (Dense)             (None, 512)               262656    \n",
            "                                                                 \n",
            " dense_7 (Dense)             (None, 10)                5130      \n",
            "                                                                 \n",
            "=================================================================\n",
            "Total params: 932,362\n",
            "Trainable params: 932,362\n",
            "Non-trainable params: 0\n",
            "_________________________________________________________________\n"
          ]
        }
      ]
    },
    {
      "cell_type": "code",
      "metadata": {
        "colab": {
          "base_uri": "https://localhost:8080/",
          "height": 643
        },
        "id": "8mZoHeSvhUB1",
        "outputId": "4b7f6927-2d18-484b-8706-61e98870c209"
      },
      "source": [
        "keras.utils.plot_model(model, show_shapes=True)"
      ],
      "execution_count": 15,
      "outputs": [
        {
          "output_type": "execute_result",
          "data": {
            "image/png": "[encoded data removed]",
            "text/plain": [
              "<IPython.core.display.Image object>"
            ]
          },
          "metadata": {},
          "execution_count": 15
        }
      ]
    },
    {
      "cell_type": "markdown",
      "metadata": {
        "id": "Z6q82AbuQrcX"
      },
      "source": [
        "## Advanced Model Building Methods\n",
        "\n",
        "This will be used for some advanced needs. Below are few of them. \n",
        "\n",
        "1) To build models with multiple inputs and a single output and vice versa.\n",
        "\n",
        "2) To  share weights between layers in a model \n",
        "\n",
        "3) Custom Computations within layers\n",
        "\n",
        "4) Custom gradient function to be used in back probagation\n",
        "\n",
        "\n",
        "This section shows custom layer method alone. There are other types like custom Methods, custom gradients etc"
      ]
    },
    {
      "cell_type": "markdown",
      "metadata": {
        "id": "0ffIX0pMhdNy"
      },
      "source": [
        "### Custom Layer definition"
      ]
    },
    {
      "cell_type": "markdown",
      "metadata": {
        "id": "nu6e_NkqutsJ"
      },
      "source": [
        "Custom class is defined using the super class Layer class that we imported. \n",
        "Activation functions, weights are intialized in the build method\n",
        "call funtion does the back probagation and updates the weights of the network"
      ]
    },
    {
      "cell_type": "code",
      "metadata": {
        "id": "lV1pTJ7L5Z8u"
      },
      "source": [
        "class CustomDense(Layer):\n",
        "\n",
        "    # add an activation parameter\n",
        "    def __init__(self, units=32, activation=None):\n",
        "        super(CustomDense, self).__init__()\n",
        "        self.units = units\n",
        "        \n",
        "        # define the activation to get from the built-in activation layers in Keras\n",
        "        self.activation = tf.keras.activations.get(activation)\n",
        "\n",
        "\n",
        "    def build(self, input_shape):\n",
        "        w_init = tf.random_normal_initializer()\n",
        "        self.w = tf.Variable(name=\"kernel\",\n",
        "            initial_value=w_init(shape=(input_shape[-1], self.units),\n",
        "                                 dtype='float32'),\n",
        "            trainable=True)\n",
        "        b_init = tf.zeros_initializer()\n",
        "        self.b = tf.Variable(name=\"bias\",\n",
        "            initial_value=b_init(shape=(self.units,), dtype='float32'),\n",
        "            trainable=True)\n",
        "        super().build(input_shape)\n",
        "\n",
        "\n",
        "    def call(self, inputs):\n",
        "        \n",
        "        # pass the computation to the activation layer\n",
        "        return self.activation(tf.matmul(inputs, self.w) + self.b)"
      ],
      "execution_count": 16,
      "outputs": []
    },
    {
      "cell_type": "markdown",
      "metadata": {
        "id": "qtaPzuTchi9x"
      },
      "source": [
        "### Model Architecture"
      ]
    },
    {
      "cell_type": "code",
      "metadata": {
        "id": "WdkJcnwVOgUK"
      },
      "source": [
        "def build_model_with_custom_layer():\n",
        "  model=tf.keras.models.Sequential([\n",
        "  tf.keras.layers.Flatten(input_shape=(28,28)),\n",
        "  CustomDense(units=512,activation=tf.nn.relu),\n",
        "  CustomDense(units=512,activation=tf.nn.relu),\n",
        "  CustomDense(units=512,activation=tf.nn.relu),\n",
        "  CustomDense(units=10,activation=tf.nn.softmax)])\n",
        "  return model"
      ],
      "execution_count": 17,
      "outputs": []
    },
    {
      "cell_type": "markdown",
      "metadata": {
        "id": "Y3NNBhJfhhVT"
      },
      "source": [
        "### Create, Visualize, Train and evaluate the model\n",
        "The same steps explained in sequential model is consolidated here as they are exactly same code"
      ]
    },
    {
      "cell_type": "markdown",
      "metadata": {
        "id": "7JNqOEcliedc"
      },
      "source": [
        ""
      ]
    },
    {
      "cell_type": "code",
      "metadata": {
        "colab": {
          "base_uri": "https://localhost:8080/"
        },
        "id": "5fajXxEtOdDB",
        "outputId": "d827d4f8-cc51-4084-cba3-e989dc6844ec"
      },
      "source": [
        "model=build_model_with_custom_layer()\n",
        "model.compile(optimizer=tf.keras.optimizers.Adam(learning_rate=0.001), metrics=['accuracy'],loss='sparse_categorical_crossentropy')\n",
        "model.fit(x_train,y_train,epochs=5,batch_size=1024)\n",
        "testaccuracy=model.evaluate(x_test,y_test)\n",
        "print(\"The test accuracy is :\", np.round(testaccuracy[1]*100,2),\"%\")"
      ],
      "execution_count": 18,
      "outputs": [
        {
          "output_type": "stream",
          "name": "stdout",
          "text": [
            "Epoch 1/5\n",
            "59/59 [==============================] - 1s 3ms/step - loss: 6.9926 - accuracy: 0.8236\n",
            "Epoch 2/5\n",
            "59/59 [==============================] - 0s 3ms/step - loss: 0.3592 - accuracy: 0.9421\n",
            "Epoch 3/5\n",
            "59/59 [==============================] - 0s 3ms/step - loss: 0.1580 - accuracy: 0.9664\n",
            "Epoch 4/5\n",
            "59/59 [==============================] - 0s 3ms/step - loss: 0.0767 - accuracy: 0.9797\n",
            "Epoch 5/5\n",
            "59/59 [==============================] - 0s 3ms/step - loss: 0.0332 - accuracy: 0.9909\n",
            "313/313 [==============================] - 1s 2ms/step - loss: 0.2930 - accuracy: 0.9522\n",
            "The test accuracy is : 95.22 %\n"
          ]
        }
      ]
    },
    {
      "cell_type": "code",
      "metadata": {
        "colab": {
          "base_uri": "https://localhost:8080/"
        },
        "id": "q9aEnZQzQVyT",
        "outputId": "b909c2ed-8ff1-4140-c5cf-6317e4692ae9"
      },
      "source": [
        "model.summary()"
      ],
      "execution_count": 19,
      "outputs": [
        {
          "output_type": "stream",
          "name": "stdout",
          "text": [
            "Model: \"sequential_1\"\n",
            "_________________________________________________________________\n",
            " Layer (type)                Output Shape              Param #   \n",
            "=================================================================\n",
            " flatten_2 (Flatten)         (None, 784)               0         \n",
            "                                                                 \n",
            " custom_dense (CustomDense)  (None, 512)               401920    \n",
            "                                                                 \n",
            " custom_dense_1 (CustomDense  (None, 512)              262656    \n",
            " )                                                               \n",
            "                                                                 \n",
            " custom_dense_2 (CustomDense  (None, 512)              262656    \n",
            " )                                                               \n",
            "                                                                 \n",
            " custom_dense_3 (CustomDense  (None, 10)               5130      \n",
            " )                                                               \n",
            "                                                                 \n",
            "=================================================================\n",
            "Total params: 932,362\n",
            "Trainable params: 932,362\n",
            "Non-trainable params: 0\n",
            "_________________________________________________________________\n"
          ]
        }
      ]
    },
    {
      "cell_type": "code",
      "metadata": {
        "id": "qm0xAovjhuxa",
        "colab": {
          "base_uri": "https://localhost:8080/",
          "height": 643
        },
        "outputId": "b999b14f-b569-4548-b3d0-1256609e6d6a"
      },
      "source": [
        "keras.utils.plot_model(model, show_shapes=True)"
      ],
      "execution_count": 20,
      "outputs": [
        {
          "output_type": "execute_result",
          "data": {
            "image/png": "[encoded data removed]",
            "text/plain": [
              "<IPython.core.display.Image object>"
            ]
          },
          "metadata": {},
          "execution_count": 20
        }
      ]
    },
    {
      "cell_type": "markdown",
      "metadata": {
        "id": "bf6NragyiigR"
      },
      "source": [
        "# Different ways of Training Model"
      ]
    },
    {
      "cell_type": "markdown",
      "metadata": {
        "id": "DcyGGrwjoVgk"
      },
      "source": [
        "Some of the basic methods of tracking metrics for training and validation and to prevent overfitting."
      ]
    },
    {
      "cell_type": "markdown",
      "metadata": {
        "id": "RfjwlHDji1c9"
      },
      "source": [
        "## Tracking Training metrics"
      ]
    },
    {
      "cell_type": "code",
      "metadata": {
        "colab": {
          "base_uri": "https://localhost:8080/"
        },
        "id": "BCpJ9-jNivGt",
        "outputId": "c711faff-ea5c-457a-e1be-49af7b66a98d"
      },
      "source": [
        "model=create_model()\n",
        "model.compile(optimizer=tf.keras.optimizers.Adam(learning_rate=0.001), metrics=['accuracy'],loss='sparse_categorical_crossentropy')\n",
        "model.fit(x_train,y_train,epochs=5,batch_size=1024)\n",
        "testaccuracy=model.evaluate(x_test,y_test)\n",
        "print(\"The test accuracy is :\", np.round(testaccuracy[1]*100,2),\"%\")"
      ],
      "execution_count": 21,
      "outputs": [
        {
          "output_type": "stream",
          "name": "stdout",
          "text": [
            "Epoch 1/5\n",
            "59/59 [==============================] - 1s 3ms/step - loss: 10.1107 - accuracy: 0.7674\n",
            "Epoch 2/5\n",
            "59/59 [==============================] - 0s 3ms/step - loss: 0.3363 - accuracy: 0.9260\n",
            "Epoch 3/5\n",
            "59/59 [==============================] - 0s 3ms/step - loss: 0.1724 - accuracy: 0.9547\n",
            "Epoch 4/5\n",
            "59/59 [==============================] - 0s 3ms/step - loss: 0.0966 - accuracy: 0.9730\n",
            "Epoch 5/5\n",
            "59/59 [==============================] - 0s 3ms/step - loss: 0.0556 - accuracy: 0.9842\n",
            "313/313 [==============================] - 1s 2ms/step - loss: 0.2094 - accuracy: 0.9520\n",
            "The test accuracy is : 95.2 %\n"
          ]
        }
      ]
    },
    {
      "cell_type": "markdown",
      "metadata": {
        "id": "9Ha-upi4jY8B"
      },
      "source": [
        "## Tracking Training & Validation metrics"
      ]
    },
    {
      "cell_type": "markdown",
      "metadata": {
        "id": "ALB-0gCGv0n5"
      },
      "source": [
        "Validation split option given below make the training to calculate valition metrics that will be used for early stopping and overfitting. \n",
        "\n",
        "If we have validation data separately we can provide validaiton_data=[val_Data,val_labels] instead of validation split."
      ]
    },
    {
      "cell_type": "code",
      "metadata": {
        "colab": {
          "base_uri": "https://localhost:8080/"
        },
        "id": "BhaFMg09jY8C",
        "outputId": "e61560e5-5431-4789-e9a8-97fb1945ed1a"
      },
      "source": [
        "model=create_model()\n",
        "model.compile(optimizer=tf.keras.optimizers.Adam(learning_rate=0.001), metrics=['accuracy'],loss='sparse_categorical_crossentropy')\n",
        "model.fit(x_train,y_train,epochs=50,batch_size=1024,validation_split=0.2)\n"
      ],
      "execution_count": 22,
      "outputs": [
        {
          "output_type": "stream",
          "name": "stdout",
          "text": [
            "Epoch 1/50\n",
            "47/47 [==============================] - 1s 6ms/step - loss: 10.0500 - accuracy: 0.7710 - val_loss: 0.5356 - val_accuracy: 0.9170\n",
            "Epoch 2/50\n",
            "47/47 [==============================] - 0s 4ms/step - loss: 0.3576 - accuracy: 0.9307 - val_loss: 0.3286 - val_accuracy: 0.9343\n",
            "Epoch 3/50\n",
            "47/47 [==============================] - 0s 4ms/step - loss: 0.1703 - accuracy: 0.9579 - val_loss: 0.2686 - val_accuracy: 0.9443\n",
            "Epoch 4/50\n",
            "47/47 [==============================] - 0s 3ms/step - loss: 0.0894 - accuracy: 0.9761 - val_loss: 0.2526 - val_accuracy: 0.9456\n",
            "Epoch 5/50\n",
            "47/47 [==============================] - 0s 4ms/step - loss: 0.0485 - accuracy: 0.9865 - val_loss: 0.2398 - val_accuracy: 0.9493\n",
            "Epoch 6/50\n",
            "47/47 [==============================] - 0s 4ms/step - loss: 0.0244 - accuracy: 0.9941 - val_loss: 0.2354 - val_accuracy: 0.9517\n",
            "Epoch 7/50\n",
            "47/47 [==============================] - 0s 4ms/step - loss: 0.0127 - accuracy: 0.9975 - val_loss: 0.2292 - val_accuracy: 0.9555\n",
            "Epoch 8/50\n",
            "47/47 [==============================] - 0s 4ms/step - loss: 0.0065 - accuracy: 0.9994 - val_loss: 0.2286 - val_accuracy: 0.9555\n",
            "Epoch 9/50\n",
            "47/47 [==============================] - 0s 4ms/step - loss: 0.0037 - accuracy: 0.9999 - val_loss: 0.2287 - val_accuracy: 0.9561\n",
            "Epoch 10/50\n",
            "47/47 [==============================] - 0s 4ms/step - loss: 0.0026 - accuracy: 1.0000 - val_loss: 0.2291 - val_accuracy: 0.9568\n",
            "Epoch 11/50\n",
            "47/47 [==============================] - 0s 4ms/step - loss: 0.0021 - accuracy: 1.0000 - val_loss: 0.2285 - val_accuracy: 0.9572\n",
            "Epoch 12/50\n",
            "47/47 [==============================] - 0s 4ms/step - loss: 0.0017 - accuracy: 1.0000 - val_loss: 0.2282 - val_accuracy: 0.9578\n",
            "Epoch 13/50\n",
            "47/47 [==============================] - 0s 4ms/step - loss: 0.0014 - accuracy: 1.0000 - val_loss: 0.2296 - val_accuracy: 0.9582\n",
            "Epoch 14/50\n",
            "47/47 [==============================] - 0s 4ms/step - loss: 0.0012 - accuracy: 1.0000 - val_loss: 0.2291 - val_accuracy: 0.9579\n",
            "Epoch 15/50\n",
            "47/47 [==============================] - 0s 4ms/step - loss: 0.0011 - accuracy: 1.0000 - val_loss: 0.2295 - val_accuracy: 0.9584\n",
            "Epoch 16/50\n",
            "47/47 [==============================] - 0s 4ms/step - loss: 9.4969e-04 - accuracy: 1.0000 - val_loss: 0.2299 - val_accuracy: 0.9586\n",
            "Epoch 17/50\n",
            "47/47 [==============================] - 0s 4ms/step - loss: 8.5186e-04 - accuracy: 1.0000 - val_loss: 0.2299 - val_accuracy: 0.9588\n",
            "Epoch 18/50\n",
            "47/47 [==============================] - 0s 4ms/step - loss: 7.6219e-04 - accuracy: 1.0000 - val_loss: 0.2306 - val_accuracy: 0.9588\n",
            "Epoch 19/50\n",
            "47/47 [==============================] - 0s 4ms/step - loss: 6.8875e-04 - accuracy: 1.0000 - val_loss: 0.2305 - val_accuracy: 0.9591\n",
            "Epoch 20/50\n",
            "47/47 [==============================] - 0s 4ms/step - loss: 6.2304e-04 - accuracy: 1.0000 - val_loss: 0.2305 - val_accuracy: 0.9593\n",
            "Epoch 21/50\n",
            "47/47 [==============================] - 0s 3ms/step - loss: 5.7018e-04 - accuracy: 1.0000 - val_loss: 0.2307 - val_accuracy: 0.9598\n",
            "Epoch 22/50\n",
            "47/47 [==============================] - 0s 4ms/step - loss: 5.2338e-04 - accuracy: 1.0000 - val_loss: 0.2314 - val_accuracy: 0.9600\n",
            "Epoch 23/50\n",
            "47/47 [==============================] - 0s 4ms/step - loss: 4.8150e-04 - accuracy: 1.0000 - val_loss: 0.2315 - val_accuracy: 0.9602\n",
            "Epoch 24/50\n",
            "47/47 [==============================] - 0s 4ms/step - loss: 4.4403e-04 - accuracy: 1.0000 - val_loss: 0.2320 - val_accuracy: 0.9603\n",
            "Epoch 25/50\n",
            "47/47 [==============================] - 0s 4ms/step - loss: 4.1128e-04 - accuracy: 1.0000 - val_loss: 0.2321 - val_accuracy: 0.9603\n",
            "Epoch 26/50\n",
            "47/47 [==============================] - 0s 4ms/step - loss: 3.8172e-04 - accuracy: 1.0000 - val_loss: 0.2326 - val_accuracy: 0.9603\n",
            "Epoch 27/50\n",
            "47/47 [==============================] - 0s 4ms/step - loss: 3.5563e-04 - accuracy: 1.0000 - val_loss: 0.2328 - val_accuracy: 0.9602\n",
            "Epoch 28/50\n",
            "47/47 [==============================] - 0s 4ms/step - loss: 3.3193e-04 - accuracy: 1.0000 - val_loss: 0.2332 - val_accuracy: 0.9606\n",
            "Epoch 29/50\n",
            "47/47 [==============================] - 0s 4ms/step - loss: 3.0909e-04 - accuracy: 1.0000 - val_loss: 0.2336 - val_accuracy: 0.9607\n",
            "Epoch 30/50\n",
            "47/47 [==============================] - 0s 4ms/step - loss: 2.9048e-04 - accuracy: 1.0000 - val_loss: 0.2337 - val_accuracy: 0.9609\n",
            "Epoch 31/50\n",
            "47/47 [==============================] - 0s 4ms/step - loss: 2.7263e-04 - accuracy: 1.0000 - val_loss: 0.2338 - val_accuracy: 0.9607\n",
            "Epoch 32/50\n",
            "47/47 [==============================] - 0s 4ms/step - loss: 2.5543e-04 - accuracy: 1.0000 - val_loss: 0.2339 - val_accuracy: 0.9602\n",
            "Epoch 33/50\n",
            "47/47 [==============================] - 0s 4ms/step - loss: 2.4074e-04 - accuracy: 1.0000 - val_loss: 0.2346 - val_accuracy: 0.9610\n",
            "Epoch 34/50\n",
            "47/47 [==============================] - 0s 4ms/step - loss: 2.2690e-04 - accuracy: 1.0000 - val_loss: 0.2347 - val_accuracy: 0.9612\n",
            "Epoch 35/50\n",
            "47/47 [==============================] - 0s 4ms/step - loss: 2.1398e-04 - accuracy: 1.0000 - val_loss: 0.2350 - val_accuracy: 0.9612\n",
            "Epoch 36/50\n",
            "47/47 [==============================] - 0s 3ms/step - loss: 2.0227e-04 - accuracy: 1.0000 - val_loss: 0.2355 - val_accuracy: 0.9619\n",
            "Epoch 37/50\n",
            "47/47 [==============================] - 0s 4ms/step - loss: 1.9076e-04 - accuracy: 1.0000 - val_loss: 0.2354 - val_accuracy: 0.9613\n",
            "Epoch 38/50\n",
            "47/47 [==============================] - 0s 4ms/step - loss: 1.8179e-04 - accuracy: 1.0000 - val_loss: 0.2358 - val_accuracy: 0.9617\n",
            "Epoch 39/50\n",
            "47/47 [==============================] - 0s 4ms/step - loss: 1.7166e-04 - accuracy: 1.0000 - val_loss: 0.2361 - val_accuracy: 0.9618\n",
            "Epoch 40/50\n",
            "47/47 [==============================] - 0s 4ms/step - loss: 1.6309e-04 - accuracy: 1.0000 - val_loss: 0.2364 - val_accuracy: 0.9617\n",
            "Epoch 41/50\n",
            "47/47 [==============================] - 0s 4ms/step - loss: 1.5517e-04 - accuracy: 1.0000 - val_loss: 0.2367 - val_accuracy: 0.9619\n",
            "Epoch 42/50\n",
            "47/47 [==============================] - 0s 4ms/step - loss: 1.4714e-04 - accuracy: 1.0000 - val_loss: 0.2369 - val_accuracy: 0.9617\n",
            "Epoch 43/50\n",
            "47/47 [==============================] - 0s 4ms/step - loss: 1.4015e-04 - accuracy: 1.0000 - val_loss: 0.2373 - val_accuracy: 0.9617\n",
            "Epoch 44/50\n",
            "47/47 [==============================] - 0s 4ms/step - loss: 1.3339e-04 - accuracy: 1.0000 - val_loss: 0.2376 - val_accuracy: 0.9621\n",
            "Epoch 45/50\n",
            "47/47 [==============================] - 0s 4ms/step - loss: 1.2716e-04 - accuracy: 1.0000 - val_loss: 0.2376 - val_accuracy: 0.9618\n",
            "Epoch 46/50\n",
            "47/47 [==============================] - 0s 3ms/step - loss: 1.2131e-04 - accuracy: 1.0000 - val_loss: 0.2381 - val_accuracy: 0.9619\n",
            "Epoch 47/50\n",
            "47/47 [==============================] - 0s 4ms/step - loss: 1.1598e-04 - accuracy: 1.0000 - val_loss: 0.2382 - val_accuracy: 0.9622\n",
            "Epoch 48/50\n",
            "47/47 [==============================] - 0s 4ms/step - loss: 1.1079e-04 - accuracy: 1.0000 - val_loss: 0.2386 - val_accuracy: 0.9622\n",
            "Epoch 49/50\n",
            "47/47 [==============================] - 0s 4ms/step - loss: 1.0595e-04 - accuracy: 1.0000 - val_loss: 0.2389 - val_accuracy: 0.9623\n",
            "Epoch 50/50\n",
            "47/47 [==============================] - 0s 4ms/step - loss: 1.0133e-04 - accuracy: 1.0000 - val_loss: 0.2391 - val_accuracy: 0.9622\n"
          ]
        },
        {
          "output_type": "execute_result",
          "data": {
            "text/plain": [
              "<keras.callbacks.History at 0x7f8af3fbecd0>"
            ]
          },
          "metadata": {},
          "execution_count": 22
        }
      ]
    },
    {
      "cell_type": "markdown",
      "metadata": {
        "id": "GQ1eYqFioRJ3"
      },
      "source": [
        "### Ploting Train vs Test loss"
      ]
    },
    {
      "cell_type": "code",
      "metadata": {
        "colab": {
          "base_uri": "https://localhost:8080/",
          "height": 512
        },
        "id": "4EXb9qrRjG4c",
        "outputId": "9e5d4d2d-3bf9-42b4-d795-b764cf4fce0a"
      },
      "source": [
        "\n",
        "plt.figure(figsize=(10,8))\n",
        "test_accuracy=model.history.history['val_accuracy']\n",
        "train_accuracy=model.history.history['accuracy']\n",
        "epochs_range=range(1,len(test_accuracy)+1)\n",
        "plt.plot(epochs_range, test_accuracy,'b', linewidth=1,label='Test Accuracy')\n",
        "plt.plot(epochs_range, train_accuracy,'r', linewidth=1,label='Train Accuracy')\n",
        "plt.xlabel(\"Epoch\")\n",
        "plt.ylabel(\" Validation accuracy\")\n",
        "plt.title(\"Model's Train vs Test accuracy \")\n",
        "plt.legend()\n",
        "plt.grid()\n",
        "plt.show()"
      ],
      "execution_count": 24,
      "outputs": [
        {
          "output_type": "display_data",
          "data": {
            "image/png": "[encoded data removed]",
            "text/plain": [
              "<Figure size 720x576 with 1 Axes>"
            ]
          },
          "metadata": {
            "needs_background": "light"
          }
        }
      ]
    },
    {
      "cell_type": "code",
      "metadata": {
        "id": "7oyoXQcEmomK",
        "colab": {
          "base_uri": "https://localhost:8080/"
        },
        "outputId": "590fc11b-8342-404d-c5a8-e73d1ff37dc5"
      },
      "source": [
        "testaccuracy=model.evaluate(x_test,y_test)\n",
        "print(\"The test accuracy is :\", np.round(testaccuracy[1]*100,2),\"%\")"
      ],
      "execution_count": 25,
      "outputs": [
        {
          "output_type": "stream",
          "name": "stdout",
          "text": [
            "313/313 [==============================] - 1s 2ms/step - loss: 0.2527 - accuracy: 0.9617\n",
            "The test accuracy is : 96.17 %\n"
          ]
        }
      ]
    },
    {
      "cell_type": "markdown",
      "metadata": {
        "id": "fIif7DpEjyyh"
      },
      "source": [
        "## Early stopping to prevent Overfitting"
      ]
    },
    {
      "cell_type": "markdown",
      "metadata": {
        "id": "wKKgAIaWlO1j"
      },
      "source": [
        "Below code shows how to do early stopping to prevent overfitting.\n",
        "This code check validation accuracy and if it does not increase for 2 epochs(patience), it stops the train and assigns best possible weights to the model(restore_best_weights=True) "
      ]
    },
    {
      "cell_type": "code",
      "metadata": {
        "colab": {
          "base_uri": "https://localhost:8080/"
        },
        "id": "8Uc9kypMkNFI",
        "outputId": "b6e0469c-0874-4646-e15a-b843a5373485"
      },
      "source": [
        "from tensorflow.keras.callbacks import EarlyStopping, ModelCheckpoint\n",
        "callbacks = [EarlyStopping(monitor='val_accuracy', patience=2,restore_best_weights=True)] # Early Stopping\n",
        "\n",
        "model=create_model()\n",
        "model.compile(optimizer=tf.keras.optimizers.Adam(learning_rate=0.001), metrics=['accuracy'],loss='sparse_categorical_crossentropy')\n",
        "model.fit(x_train,y_train,epochs=50,batch_size=1024,validation_split=0.2,callbacks=callbacks)\n"
      ],
      "execution_count": 26,
      "outputs": [
        {
          "output_type": "stream",
          "name": "stdout",
          "text": [
            "Epoch 1/50\n",
            "47/47 [==============================] - 1s 7ms/step - loss: 10.0079 - accuracy: 0.7644 - val_loss: 0.5353 - val_accuracy: 0.9054\n",
            "Epoch 2/50\n",
            "47/47 [==============================] - 0s 4ms/step - loss: 0.3624 - accuracy: 0.9224 - val_loss: 0.3240 - val_accuracy: 0.9300\n",
            "Epoch 3/50\n",
            "47/47 [==============================] - 0s 4ms/step - loss: 0.1776 - accuracy: 0.9545 - val_loss: 0.2734 - val_accuracy: 0.9358\n",
            "Epoch 4/50\n",
            "47/47 [==============================] - 0s 4ms/step - loss: 0.0989 - accuracy: 0.9733 - val_loss: 0.2493 - val_accuracy: 0.9415\n",
            "Epoch 5/50\n",
            "47/47 [==============================] - 0s 4ms/step - loss: 0.0562 - accuracy: 0.9852 - val_loss: 0.2348 - val_accuracy: 0.9466\n",
            "Epoch 6/50\n",
            "47/47 [==============================] - 0s 4ms/step - loss: 0.0312 - accuracy: 0.9924 - val_loss: 0.2280 - val_accuracy: 0.9473\n",
            "Epoch 7/50\n",
            "47/47 [==============================] - 0s 4ms/step - loss: 0.0177 - accuracy: 0.9966 - val_loss: 0.2263 - val_accuracy: 0.9498\n",
            "Epoch 8/50\n",
            "47/47 [==============================] - 0s 4ms/step - loss: 0.0103 - accuracy: 0.9987 - val_loss: 0.2226 - val_accuracy: 0.9511\n",
            "Epoch 9/50\n",
            "47/47 [==============================] - 0s 4ms/step - loss: 0.0062 - accuracy: 0.9995 - val_loss: 0.2219 - val_accuracy: 0.9512\n",
            "Epoch 10/50\n",
            "47/47 [==============================] - 0s 4ms/step - loss: 0.0041 - accuracy: 0.9999 - val_loss: 0.2223 - val_accuracy: 0.9523\n",
            "Epoch 11/50\n",
            "47/47 [==============================] - 0s 4ms/step - loss: 0.0030 - accuracy: 0.9999 - val_loss: 0.2224 - val_accuracy: 0.9533\n",
            "Epoch 12/50\n",
            "47/47 [==============================] - 0s 4ms/step - loss: 0.0023 - accuracy: 1.0000 - val_loss: 0.2228 - val_accuracy: 0.9540\n",
            "Epoch 13/50\n",
            "47/47 [==============================] - 0s 4ms/step - loss: 0.0018 - accuracy: 1.0000 - val_loss: 0.2236 - val_accuracy: 0.9543\n",
            "Epoch 14/50\n",
            "47/47 [==============================] - 0s 4ms/step - loss: 0.0015 - accuracy: 1.0000 - val_loss: 0.2238 - val_accuracy: 0.9548\n",
            "Epoch 15/50\n",
            "47/47 [==============================] - 0s 4ms/step - loss: 0.0013 - accuracy: 1.0000 - val_loss: 0.2252 - val_accuracy: 0.9553\n",
            "Epoch 16/50\n",
            "47/47 [==============================] - 0s 4ms/step - loss: 0.0011 - accuracy: 1.0000 - val_loss: 0.2252 - val_accuracy: 0.9555\n",
            "Epoch 17/50\n",
            "47/47 [==============================] - 0s 4ms/step - loss: 9.8145e-04 - accuracy: 1.0000 - val_loss: 0.2253 - val_accuracy: 0.9561\n",
            "Epoch 18/50\n",
            "47/47 [==============================] - 0s 4ms/step - loss: 8.6937e-04 - accuracy: 1.0000 - val_loss: 0.2263 - val_accuracy: 0.9560\n",
            "Epoch 19/50\n",
            "47/47 [==============================] - 0s 4ms/step - loss: 7.7791e-04 - accuracy: 1.0000 - val_loss: 0.2266 - val_accuracy: 0.9568\n",
            "Epoch 20/50\n",
            "47/47 [==============================] - 0s 4ms/step - loss: 6.9855e-04 - accuracy: 1.0000 - val_loss: 0.2270 - val_accuracy: 0.9571\n",
            "Epoch 21/50\n",
            "47/47 [==============================] - 0s 4ms/step - loss: 6.3121e-04 - accuracy: 1.0000 - val_loss: 0.2277 - val_accuracy: 0.9576\n",
            "Epoch 22/50\n",
            "47/47 [==============================] - 0s 4ms/step - loss: 5.7409e-04 - accuracy: 1.0000 - val_loss: 0.2278 - val_accuracy: 0.9576\n",
            "Epoch 23/50\n",
            "47/47 [==============================] - 0s 4ms/step - loss: 5.2390e-04 - accuracy: 1.0000 - val_loss: 0.2287 - val_accuracy: 0.9578\n",
            "Epoch 24/50\n",
            "47/47 [==============================] - 0s 4ms/step - loss: 4.8036e-04 - accuracy: 1.0000 - val_loss: 0.2289 - val_accuracy: 0.9582\n",
            "Epoch 25/50\n",
            "47/47 [==============================] - 0s 4ms/step - loss: 4.4246e-04 - accuracy: 1.0000 - val_loss: 0.2295 - val_accuracy: 0.9582\n",
            "Epoch 26/50\n",
            "47/47 [==============================] - 0s 4ms/step - loss: 4.0782e-04 - accuracy: 1.0000 - val_loss: 0.2298 - val_accuracy: 0.9588\n",
            "Epoch 27/50\n",
            "47/47 [==============================] - 0s 4ms/step - loss: 3.7818e-04 - accuracy: 1.0000 - val_loss: 0.2307 - val_accuracy: 0.9585\n",
            "Epoch 28/50\n",
            "47/47 [==============================] - 0s 4ms/step - loss: 3.4985e-04 - accuracy: 1.0000 - val_loss: 0.2308 - val_accuracy: 0.9588\n",
            "Epoch 29/50\n",
            "47/47 [==============================] - 0s 4ms/step - loss: 3.2579e-04 - accuracy: 1.0000 - val_loss: 0.2311 - val_accuracy: 0.9591\n",
            "Epoch 30/50\n",
            "47/47 [==============================] - 0s 4ms/step - loss: 3.0251e-04 - accuracy: 1.0000 - val_loss: 0.2319 - val_accuracy: 0.9588\n",
            "Epoch 31/50\n",
            "47/47 [==============================] - 0s 4ms/step - loss: 2.8250e-04 - accuracy: 1.0000 - val_loss: 0.2319 - val_accuracy: 0.9591\n"
          ]
        },
        {
          "output_type": "execute_result",
          "data": {
            "text/plain": [
              "<keras.callbacks.History at 0x7f89e00e8d90>"
            ]
          },
          "metadata": {},
          "execution_count": 26
        }
      ]
    },
    {
      "cell_type": "markdown",
      "metadata": {
        "id": "XE0jbnRfrTw6"
      },
      "source": [
        "Here we can observe that though we ask the training step to do 50 epochs, it stops in fewer epochs as the validation accuracy has not increased more than 2 times. \n",
        "\n",
        "We can use other metrics like Validation loss, training loss, etc to decide when to stop training. "
      ]
    },
    {
      "cell_type": "markdown",
      "metadata": {
        "id": "Jtw8O3pWnvSH"
      },
      "source": [
        "### Ploting Train vs Test loss"
      ]
    },
    {
      "cell_type": "code",
      "metadata": {
        "colab": {
          "base_uri": "https://localhost:8080/",
          "height": 512
        },
        "id": "6iINHtJindgg",
        "outputId": "b71e4342-4284-4984-ea8f-b49d01594cbc"
      },
      "source": [
        "\n",
        "plt.figure(figsize=(10,8))\n",
        "test_accuracy=model.history.history['val_accuracy']\n",
        "train_accuracy=model.history.history['accuracy']\n",
        "epochs_range=range(1,len(test_accuracy)+1)\n",
        "plt.plot(epochs_range, test_accuracy,'b', linewidth=1,label='Test Accuracy')\n",
        "plt.plot(epochs_range, train_accuracy,'r', linewidth=1,label='Train Accuracy')\n",
        "plt.xlabel(\"Epoch\")\n",
        "plt.ylabel(\" Validation accuracy\")\n",
        "plt.title(\"Model's Train vs Test accuracy \")\n",
        "plt.legend()\n",
        "plt.grid()\n",
        "plt.show()"
      ],
      "execution_count": 28,
      "outputs": [
        {
          "output_type": "display_data",
          "data": {
            "image/png": "[encoded data removed]",
            "text/plain": [
              "<Figure size 720x576 with 1 Axes>"
            ]
          },
          "metadata": {
            "needs_background": "light"
          }
        }
      ]
    },
    {
      "cell_type": "markdown",
      "metadata": {
        "id": "3xjxXn09phCQ"
      },
      "source": [
        "This is to show above early stoping obersvation graphically. "
      ]
    },
    {
      "cell_type": "markdown",
      "metadata": {
        "id": "cBs4M_GkpB1w"
      },
      "source": [
        "# Summary"
      ]
    },
    {
      "cell_type": "markdown",
      "metadata": {
        "id": "H4iV8LMNpFlm"
      },
      "source": [
        "This notebook provides some starting point to anyone to start coding in tensorflow to build and train models. It also covers some basic tricks like early stopping, tracking  metrics etc \n",
        "\n",
        "Below reference can be checked to find different Optimizers, Loss fuctions, early stopping and other advanced techniques to build upon. "
      ]
    },
    {
      "cell_type": "markdown",
      "metadata": {
        "id": "bbLgOwGOR6IM"
      },
      "source": [
        "## References\n",
        "\n",
        "https://www.tensorflow.org/\n",
        "\n",
        "https://keras.io/\n",
        "\n",
        "https://www.coursera.org/"
      ]
    },
    {
      "cell_type": "markdown",
      "metadata": {
        "id": "bGesxfv1Sme4"
      },
      "source": [
        ""
      ]
    }
  ]
}